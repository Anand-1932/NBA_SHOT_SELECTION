{
  "cells": [
    {
      "cell_type": "markdown",
      "metadata": {
        "id": "view-in-github",
        "colab_type": "text"
      },
      "source": [
        "<a href=\"https://colab.research.google.com/github/Anand-1932/NBA_SHOT_SELECTION/blob/main/PRCP_1008_NBAShotSelection.ipynb\" target=\"_parent\"><img src=\"https://colab.research.google.com/assets/colab-badge.svg\" alt=\"Open In Colab\"/></a>"
      ]
    },
    {
      "cell_type": "markdown",
      "metadata": {
        "id": "yghUOHExbOwX"
      },
      "source": [
        "<h1>CONTENTS<span class=\"tocSkip\"></span></h1>\n",
        "<div class=\"toc\"><ul class=\"toc-item\"><li><span><a href=\"#Business Case\" data-toc-modified-id=\"Business Case-1\"><span class=\"toc-item-num\">1&nbsp;&nbsp;</span>Business Case</a></span></li>\n",
        "<li><span><a href=\"#Domain Analysis\" data-toc-modified-id=\"Domain Analysis-2\"><span class=\"toc-item-num\">2&nbsp;&nbsp;</span>Domain Analysis</a></span></li>\n",
        "<li><span><a href=\"#Importing Libraries\" data-toc-modified-id=\"Importing Libraries-3\"><span class=\"toc-item-num\">3&nbsp;&nbsp;</span>Importing Libraries</a></span></li>\n",
        "<li><span><a href=\"#Loading Dataset\" data-toc-modified-id=\"Loading Dataset-3\"><span class=\"toc-item-num\">4&nbsp;&nbsp;</span>Loading Dataset</a></span></li>\n",
        "<li><span><a href=\"#Basic Checks\" data-toc-modified-id=\"Basic Checks\"><span class=\"toc-item-num\">5&nbsp;&nbsp;</span>Basic Checks</a></span></li>\n",
        "<li><span><a href=\"#Exploratory Data Ananlysis\" data-toc-modified-id=\"#Exploratory Data Ananlysis\"\"><span class=\"toc-item-num\">6&nbsp;&nbsp;</span>Exploratory Data Ananlysis</a></span></li>\n",
        "<li><span><a href=\"#Data Preprocessing\" data-toc-modified-id=\"#Data Preprocessing\"><span class=\"toc-item-num\">7&nbsp;&nbsp;</span>Data Preprocessing</a></span></li>\n",
        "<li><span><a href=\"#Feature Engineering\" data-toc-modified-id=\"Feature Engineering\"><span class=\"toc-item-num\">8&nbsp;&nbsp;</span>Feature Engineering</a></span></li>\n",
        "<li><span><a href=\"#Split Data Into Independent & Dependent Variable\" data-toc-modified-id=\"Split Data Into Independent & Dependent Variable\"><span class=\"toc-item-num\">9&nbsp;&nbsp;</span>Split Data Into Independent & Dependent Variable</a></span></li>\n",
        "<li><span><a href=\"#Model Building\" data-toc-modified-id=\"Model Building><span class=\"toc-item-num\">10&nbsp;&nbsp;</span>Model Building</a></span></li>\n",
        "<li><span><a href=\"#Hyperparameter Tunning\" data-toc-modified-id=\"Hyperparameter Tunning><span class=\"toc-item-num\">11&nbsp;&nbsp;</span>Hyperparameter Tunning</a></span></li>\n",
        "<li><span><a href=\"#Model Selection Baeed on F1 Score\" data-toc-modified-id=\"Model Selection Baeed on F1 Score><span class=\"toc-item-num\">12&nbsp;&nbsp;</span>Model Selection Baeed on F1 Score</a></span></li>\n",
        "<li><span><a href=\"#Visualize Some Prediction\" data-toc-modified-id=\"Visualize Some Prediction><span class=\"toc-item-num\">13&nbsp;&nbsp;</span>Visualize Some Prediction</a></span></li>"
      ]
    },
    {
      "cell_type": "markdown",
      "metadata": {
        "id": "R9Ty--Yk05NE"
      },
      "source": [
        "# **1. BUSINESS CASE**\n",
        "Shot selection is a critical factor in basketball performance, directly affecting a team's scoring efficiency and win probability. However:\n",
        "\n",
        "*   Players often take suboptimal shots due to in-game pressure, poor situational awareness, or misaligned decision-making.\n",
        "\n",
        "*   Coaching staff rely on post-game analysis and heuristics rather than real-time data-driven insights to guide decisions.\n",
        "\n",
        "*   Advanced analytics exist but are underutilized in dynamic, real-time scenarios, limiting actionable impact during games.\n",
        "\n",
        "*   These challenges result in lost scoring opportunities, lower shooting percentages, and increased turnover rates.\n",
        "\n",
        "*    With use machine learning algorithm we can improve scoring efficiency, real time decision support, player development and strategic planning.\n",
        "\n",
        "*    We will develope a machine learning shot selection model that evaluates the shot probablities in real time, taking into account player shooting percentages by location, defensive positioning and proximity of defenders, game context (e.g., time remaining, score differential, player fatigue) and Historical success rates of similar shot scenarios.\n",
        "\n",
        "*   The model will provide a \"shot quality score\" or \"expected points value\" for each shot opportunity, accessible to coaches via a live dashboard and integrated into post-game analysis tools.\n",
        "\n",
        "In summary investing in an ML-powered shot selection system aligns with the NBA’s data-driven future. By improving scoring efficiency, enhancing player performance, and gaining a competitive edge, the project offers significant value to teams, and fans."
      ]
    },
    {
      "cell_type": "markdown",
      "metadata": {
        "id": "mONy11uvhLeT"
      },
      "source": [
        "# **DOMAIN ANALYSIS**\n",
        "\n",
        "While doing this project we are going to use the dataset which contains the location and circumstances of every field goal attempted by Kobe\n",
        "Bryant took during his 20-year career. This dataset contains more than 30600 rows and 25 columns.\n",
        "\n",
        "* From the given dataset we will create a machine learning model which will able to predict weather the player will score or not based on the given input to the model.\n",
        "\n",
        "* This dataset contain 25 columns these are mentioned below, we will go through each one of feature to gain insights what is the weights of the column on the label column.\n",
        "\n",
        "\n",
        "1.   action_type\n",
        "        *   Description: The specific action leading to the shot (e.g., pull-up jumper, driving layup).\n",
        "\n",
        "        *   Use Case: Helps identify the type of shot attempt and how it impacts shot success. Action types can be grouped to analyze tendencies and effectiveness\n",
        "\n",
        "2.   combined_shot_type\n",
        "        *   Description: Generalized shot categories (e.g., jump shot, layup, dunk).\n",
        "\n",
        "        *   Use Case: Used for high-level grouping of shot attempts and understanding their probabilities based on type.\n",
        "\n",
        "3.   game_event_id\n",
        "        *   Description: Unique identifier for each event in a game (e.g., a shot attempt or other game actions).\n",
        "\n",
        "        *   Use Case: Ensures the temporal ordering of actions within the game and links other events to the shot attempt.\n",
        "\n",
        "4.   game_id\n",
        "        *   Description: Unique identifier for each game.\n",
        "\n",
        "        *   Use Case: Links shots to specific games for broader analysis across seasons or matchups.\n",
        "\n",
        "5.   lat\n",
        "        *   Description:lat means latitude Geographic location data for the shot attempt.\n",
        "\n",
        "        *   Use Case: These features are less relevant on their own but could be used for arena-specific trends or eliminated in favor of loc_x and loc_y.\n",
        "\n",
        "6.   loc_x\n",
        "        *   Description: Shot location x coordinates on the court.\n",
        "\n",
        "        *   Use Case: Critical for spatial analysis of shot selection and success by court area.\n",
        "7.   loc_y\n",
        "        *   Description: Shot location y coordinates on the court.\n",
        "\n",
        "        *   Use Case: Critical for spatial analysis of shot selection and success by court area.\n",
        "\n",
        "8.   lon\n",
        "        *   Description:lon means longitude Geographic location data for the shot attempt.\n",
        "\n",
        "        *   Use Case: These features are less relevant on their own but could be used for arena-specific trends or eliminated in favor of loc_x and loc_y.\n",
        "\n",
        "9.   minutes_remaining\n",
        "        *   Description: Time left in the period in minute when the shot was taken.\n",
        "\n",
        "        *   Use Case: Contextualizes shot urgency and decision-making (e.g., buzzer-beaters or late-game pressure).\n",
        "\n",
        "10.  period\n",
        "        *   Description: Quarter or overtime of the game (e.g., 1 for the first quarter, 5 for overtime).\n",
        "\n",
        "        *   Use Case: Highlights differences in shot selection and success based on game phases.\n",
        "        \n",
        "\n",
        "11.   playoffs\n",
        "        *   Description: Indicates whether the game is a playoff game (1 for playoffs, 0 for regular season).\n",
        "\n",
        "        *   Use Case: Useful for identifying shot selection under high-stakes conditions.      \n",
        "\n",
        "12.   season\n",
        "        *   Description: NBA season (e.g., 2015-16).\n",
        "\n",
        "        *   Use Case: Enables trend analysis across seasons and helps incorporate evolving strategies.\n",
        "\n",
        "13.   seconds_remaining\n",
        "        *   Description: Time left in the period in second when the shot was taken.\n",
        "\n",
        "        *   Use Case: Contextualizes shot urgency and decision-making (e.g., buzzer-beaters or late-game pressure).\n",
        "\n",
        "14.   shot_distance\n",
        "        *   Description: Distance of the shot from the basket (in feet).\n",
        "\n",
        "        *   Use Case: Critical for determining shot difficulty and expected success rate.\n",
        "\n",
        "15.   shot_made_flag\n",
        "        *   Description: Binary indicator of whether the shot was successful (1 for made, 0 for missed).\n",
        "\n",
        "        *   Use Case: The target variable for training the ML model.\n",
        "\n",
        "16.   shot_type\n",
        "        *   Description: Number of points attempted (e.g., 2PT Field Goal, 3PT Field Goal).\n",
        "\n",
        "        *   Use Case: Differentiates between two-point and three-point shots for scoring efficiency analysis.\n",
        "\n",
        "17.   shot_zone_area\n",
        "        *   Description: Specific area on the court (e.g., Left Side(L), Right Side(R), Center(C)).\n",
        "\n",
        "        *   Use Case: Breaks down spatial tendencies and efficiencies based on court zones.\n",
        "\n",
        "18.   shot_zone_basic\n",
        "        *   Description: Simplified zones (e.g., Mid-Range, Restricted Area, Above the Break 3).\n",
        "\n",
        "        *   Use Case: Useful for grouping shots into broad categories to identify scoring patterns.\n",
        "\n",
        "19.   shot_zone_range\n",
        "        *   Description: Shot distance range (e.g., Less Than 8 ft., 24+ ft.).\n",
        "\n",
        "        *   Use Case: Helps with grouping shot attempts into short, mid, and long-range categories.\n",
        "\n",
        "20.   team_id\n",
        "        *   Description: Identifiers for the team attempting the shot.\n",
        "\n",
        "        *   Use Case: Allows team-based analysis and comparisons.\n",
        "21.   team_name\n",
        "        *   Description: Identifiers for the team attempting the shot.\n",
        "\n",
        "        *   Use Case: Allows team-based analysis and comparisons.\n",
        "\n",
        "22.   game_date\n",
        "        *   Description: Date of the game.\n",
        "\n",
        "        *   Use Case: Enables time-based trends or seasonality in shot selection.\n",
        "\n",
        "23.   matchup\n",
        "        *   Description: Game matchup (e.g., LAL vs. BOS).\n",
        "\n",
        "        *   Use Case: Links shots to specific opponents for opponent-based strategies.  \n",
        "\n",
        "24.   opponent\n",
        "        *   Description: Name of the opposing team.\n",
        "\n",
        "        *   Use Case: Simplifies matchup analysis by focusing on specific opponents.\n",
        "\n",
        "25.   shot_id\n",
        "        *   Description: Unique identifier for the shot attempt.\n",
        "\n",
        "        *   Use Case: Ensures every shot is uniquely identifiable for tracking and modeling.\n",
        "        \n",
        "Using these feature we will implement various machine learning system which will predict weather the shot is sucessful or not based on the input provided to the system. In these we will use different machine learning algorithm and compare there f1 score and choose the best model for the prediction."
      ]
    },
    {
      "cell_type": "markdown",
      "metadata": {
        "id": "LI4kKzF4pqzx"
      },
      "source": [
        "# **IMPORTING LIBRARIES**"
      ]
    },
    {
      "cell_type": "code",
      "execution_count": null,
      "metadata": {
        "id": "BvphOAvhbMwU"
      },
      "outputs": [],
      "source": [
        "import numpy as np\n",
        "import pandas as pd\n",
        "import matplotlib.pyplot as plt\n",
        "import seaborn as sns\n",
        "import warnings\n",
        "warnings.filterwarnings('ignore')"
      ]
    },
    {
      "cell_type": "code",
      "execution_count": null,
      "metadata": {
        "id": "Atj1WypEgWdp"
      },
      "outputs": [],
      "source": [
        "!pip install ydata_profiling"
      ]
    },
    {
      "cell_type": "code",
      "execution_count": null,
      "metadata": {
        "id": "KM3emO5ggKJc"
      },
      "outputs": [],
      "source": [
        "\n",
        "from ydata_profiling import ProfileReport"
      ]
    },
    {
      "cell_type": "code",
      "execution_count": null,
      "metadata": {
        "id": "EIfTNyHLzuQo"
      },
      "outputs": [],
      "source": [
        "!pip install category_encoders"
      ]
    },
    {
      "cell_type": "code",
      "execution_count": null,
      "metadata": {
        "id": "eWuaWqCGpVhE"
      },
      "outputs": [],
      "source": [
        "from sklearn.preprocessing import OneHotEncoder,LabelEncoder,MinMaxScaler\n",
        "from category_encoders import TargetEncoder\n",
        "from sklearn.compose import ColumnTransformer\n",
        "from sklearn.pipeline import Pipeline\n",
        "from sklearn.model_selection import train_test_split"
      ]
    },
    {
      "cell_type": "code",
      "execution_count": null,
      "metadata": {
        "id": "EN8tPDawyJJQ"
      },
      "outputs": [],
      "source": [
        "from sklearn.linear_model import LogisticRegression\n",
        "from sklearn.tree import DecisionTreeClassifier\n",
        "from sklearn.ensemble import RandomForestClassifier\n",
        "from sklearn.svm import SVC\n",
        "from sklearn.neighbors import KNeighborsClassifier"
      ]
    },
    {
      "cell_type": "code",
      "execution_count": null,
      "metadata": {
        "id": "cBHYRHD0ykmI"
      },
      "outputs": [],
      "source": [
        "from sklearn.metrics import accuracy_score,confusion_matrix,classification_report,f1_score"
      ]
    },
    {
      "cell_type": "markdown",
      "metadata": {
        "id": "7PdDlB9sqYvg"
      },
      "source": [
        "# **Loading Dataset**"
      ]
    },
    {
      "cell_type": "code",
      "execution_count": null,
      "metadata": {
        "id": "ls6wfmBrevtW"
      },
      "outputs": [],
      "source": [
        "df = pd.read_csv(\"data.csv\")"
      ]
    },
    {
      "cell_type": "code",
      "execution_count": null,
      "metadata": {
        "id": "i0GIL8oIfi9I"
      },
      "outputs": [],
      "source": [
        "df"
      ]
    },
    {
      "cell_type": "code",
      "execution_count": null,
      "metadata": {
        "id": "98yp1pCXfkKX"
      },
      "outputs": [],
      "source": [
        " df.shape"
      ]
    },
    {
      "cell_type": "markdown",
      "metadata": {
        "id": "v87UoLmfq-ix"
      },
      "source": [
        "# **BASIC CHECKS**"
      ]
    },
    {
      "cell_type": "code",
      "execution_count": null,
      "metadata": {
        "id": "r2zlBZA2iQzZ"
      },
      "outputs": [],
      "source": [
        "# first five rows of the dataset\n",
        "df.head()"
      ]
    },
    {
      "cell_type": "code",
      "execution_count": null,
      "metadata": {
        "id": "IcSJsTYLrDB7"
      },
      "outputs": [],
      "source": [
        "# last five rows of the dataset\n",
        "df.tail()"
      ]
    },
    {
      "cell_type": "code",
      "execution_count": null,
      "metadata": {
        "id": "ZdSUvSmqrMy0"
      },
      "outputs": [],
      "source": [
        "\n",
        "\n",
        "\n",
        "\n",
        "# checking for null value in the dataset\n",
        "df.isnull().sum()"
      ]
    },
    {
      "cell_type": "code",
      "execution_count": null,
      "metadata": {
        "id": "lc6NrlmVrjvE"
      },
      "outputs": [],
      "source": [
        "# checking Datatypes of each column, Memory consumed by dataset\n",
        "df.info()"
      ]
    },
    {
      "cell_type": "code",
      "execution_count": null,
      "metadata": {
        "id": "7-ZdnU1FrxLq"
      },
      "outputs": [],
      "source": [
        "\n",
        "# statistical analysis of numerical column\n",
        "df.describe()"
      ]
    },
    {
      "cell_type": "code",
      "execution_count": null,
      "metadata": {
        "id": "b9-ygH-qsF0p"
      },
      "outputs": [],
      "source": [
        "# statistical analysis of categorical column\n",
        "df.describe(include='O')"
      ]
    },
    {
      "cell_type": "markdown",
      "metadata": {
        "id": "RRvajOSCsaZN"
      },
      "source": [
        "# **EXPLORATORY DATA ANALYSIS (EDA)**"
      ]
    },
    {
      "cell_type": "code",
      "execution_count": null,
      "metadata": {
        "id": "RkXq0PoKgftJ"
      },
      "outputs": [],
      "source": [
        "EDA = ProfileReport(df,title='NBA Shot Selection Report')\n",
        "EDA"
      ]
    },
    {
      "cell_type": "markdown",
      "source": [
        "# **INSIGHTS FROM EDA**\n",
        "\n",
        "\n",
        "*   team_id and team_name has uniform value.\n",
        "\n",
        "*   Shot_made_flag has 5000 missing value.\n",
        "*   combined_shot_type is highly imbalanced.\n",
        "\n",
        "\n",
        "*   Most of the features is highly coorelated to each other like loc_x and lat and loc_y and lon.\n",
        "\n",
        "\n",
        "*   shot_id is uniformly distributed and have unique value.\n",
        "\n",
        "*   Every feature has low coorelation with the target feature i.e., shot_made_flag.\n",
        "\n",
        "\n",
        "\n",
        "*   combined_shot_type has highest coorelation with the target feature.\n",
        "\n",
        "\n",
        "\n"
      ],
      "metadata": {
        "id": "--hOV0U5wT5e"
      }
    },
    {
      "cell_type": "markdown",
      "metadata": {
        "id": "bzP0u5H-aZ6j"
      },
      "source": [
        "# **DATA PREPROCESSING**"
      ]
    },
    {
      "cell_type": "code",
      "execution_count": null,
      "metadata": {
        "id": "xFDnYaVkpqbQ"
      },
      "outputs": [],
      "source": [
        "# checking for null value\n",
        "df.isnull().sum()"
      ]
    },
    {
      "cell_type": "markdown",
      "metadata": {
        "id": "9j_RkYMsaoKL"
      },
      "source": [
        "\n",
        "\n",
        "*   There is null value in target column.\n",
        "*   There is about 5000 null value in shot_made_flag column.\n",
        "\n",
        "*   We will later handle missing value in Data Preprocessing step.\n",
        "\n",
        "\n",
        "\n"
      ]
    },
    {
      "cell_type": "code",
      "execution_count": null,
      "metadata": {
        "id": "_biOJ9bhajiZ"
      },
      "outputs": [],
      "source": [
        "# checking for duplicated value\n",
        "df.duplicated().sum()"
      ]
    },
    {
      "cell_type": "markdown",
      "metadata": {
        "id": "2TJZu6DLbY8I"
      },
      "source": [
        "\n",
        "\n",
        "*   There is no duplicated value in dataset.\n",
        "\n",
        "\n"
      ]
    },
    {
      "cell_type": "code",
      "execution_count": null,
      "metadata": {
        "id": "xpP3KMFFcZKK"
      },
      "outputs": [],
      "source": [
        "# checking for outliers\n",
        "plt.figure(figsize=(20,15),facecolor='white')\n",
        "plotnumber = 1\n",
        "\n",
        "for i in df.select_dtypes(include=\"number\").columns:\n",
        "  plotnumber<=14\n",
        "  ax=plt.subplot(6,3,plotnumber)\n",
        "  sns.boxplot(x=df[i])\n",
        "  plt.xlabel(i,fontsize=10)\n",
        "  plt.ylabel('count',fontsize=10)\n",
        "\n",
        "  plotnumber+=1\n",
        "\n",
        "plt.tight_layout()"
      ]
    },
    {
      "cell_type": "code",
      "execution_count": null,
      "metadata": {
        "id": "eFbor1SgbQ9E"
      },
      "outputs": [],
      "source": [
        "# defineing the wisker function which will return lower_wisker(lw) and upper_wisker(uw)\n",
        "def wisker(col):\n",
        "  Q1,Q3=np.percentile(col,[25,75])\n",
        "  IQR=Q3-Q1\n",
        "  lw=Q1-1.5*IQR\n",
        "  uw=Q3+1.5*IQR\n",
        "  return lw,uw"
      ]
    },
    {
      "cell_type": "code",
      "execution_count": null,
      "metadata": {
        "id": "wqC8u_NNcQYN"
      },
      "outputs": [],
      "source": [
        "for i in df[['game_id','lat','loc_y','period','playoffs','shot_distance']]:\n",
        "  lw,uw=wisker(df[i])\n",
        "  df[i]=np.where(df[i]<lw,lw,df[i])\n",
        "  df[i]=np.where(df[i]>uw,uw,df[i])"
      ]
    },
    {
      "cell_type": "code",
      "execution_count": null,
      "metadata": {
        "id": "b_f9Hwmkiq51"
      },
      "outputs": [],
      "source": [
        "# plotting boxplot again to cnfrm outliers are handled\n",
        "plt.figure(figsize=(20,15),facecolor='white')\n",
        "plotnumber = 1\n",
        "\n",
        "for i in df.select_dtypes(include=\"number\").columns:\n",
        "  plotnumber<=14\n",
        "  ax=plt.subplot(6,3,plotnumber)\n",
        "  sns.boxplot(x=df[i])\n",
        "  plt.xlabel(i,fontsize=10)\n",
        "  plt.ylabel('count',fontsize=10)\n",
        "\n",
        "  plotnumber+=1\n",
        "\n",
        "plt.tight_layout()"
      ]
    },
    {
      "cell_type": "code",
      "execution_count": null,
      "metadata": {
        "id": "okzGA9mMi5T9"
      },
      "outputs": [],
      "source": [
        "# handling missing value\n",
        "# we will remove rows that conatin null value in shot_made_flag column.\n",
        "df = df.dropna()"
      ]
    },
    {
      "cell_type": "code",
      "execution_count": null,
      "metadata": {
        "id": "6_fh7pTxnmV-"
      },
      "outputs": [],
      "source": [
        "# checking for null value\n",
        "df.isnull().sum()"
      ]
    },
    {
      "cell_type": "code",
      "execution_count": null,
      "metadata": {
        "id": "1tOQyEscnnza"
      },
      "outputs": [],
      "source": [
        "# checking for shape of dataset\n",
        "df.shape"
      ]
    },
    {
      "cell_type": "code",
      "execution_count": null,
      "metadata": {
        "id": "XZjL3K-dIohf"
      },
      "outputs": [],
      "source": [
        "\n",
        "df.select_dtypes(include='number').corr()"
      ]
    },
    {
      "cell_type": "markdown",
      "metadata": {
        "id": "v0AwJP4ld9WU"
      },
      "source": [
        "# **FEATURE ENGINERRING**"
      ]
    },
    {
      "cell_type": "code",
      "execution_count": null,
      "metadata": {
        "id": "KKpWTDFXrv3h"
      },
      "outputs": [],
      "source": [
        "df.columns"
      ]
    },
    {
      "cell_type": "code",
      "execution_count": null,
      "metadata": {
        "id": "3E4BPaZnebpV"
      },
      "outputs": [],
      "source": [
        "# Rremoving columns which are not important in the prediction weather shot is sucessful or not\n",
        "# firstly removing column which are Unique Identifier.\n",
        "df.drop(['game_event_id','game_id','shot_id'], axis=1, inplace=True)"
      ]
    },
    {
      "cell_type": "markdown",
      "metadata": {
        "id": "04nglnmYGN2t"
      },
      "source": [
        "# **Reason of removal of these column**\n",
        "\n",
        "1.   game_event_id:- this is just a event index and dono't influence shot success.\n",
        "\n",
        "2.   game_id:-  It doesn’t provide any meaningful information for predicting shot success since it is unique to each game.\n",
        "\n",
        "3.   shot_id:- Irrelevant for prediction. Unique IDs do not provide any useful information about the shot’s characteristics or its likelihood of success. Including it would introduce noise into your model.\n",
        "\n"
      ]
    },
    {
      "cell_type": "code",
      "execution_count": null,
      "metadata": {
        "id": "CIEMgha5Db6h"
      },
      "outputs": [],
      "source": [
        "# removing lat and lon column\n",
        "df.drop(['lat','lon'], axis=1, inplace=True)"
      ]
    },
    {
      "cell_type": "markdown",
      "metadata": {
        "id": "j1Eh-fpIOOnS"
      },
      "source": [
        "# **Reason of removal of these column**\n",
        "\n",
        "\n",
        "1.   lat and lon:-: These can be redundant if loc_x and loc_y are already used, as they both represent spatial location. If you plan to use loc_x and loc_y, it's fine to remove lat and lon.\n",
        "\n",
        "\n"
      ]
    },
    {
      "cell_type": "code",
      "execution_count": null,
      "metadata": {
        "id": "Jub1s_ErDdhi"
      },
      "outputs": [],
      "source": [
        "# creating New column time_reaming by combining minutes_reaming and seconds_reaming\n",
        "df['time_remaining(in_secs)'] = df['minutes_remaining']*60 + df['seconds_remaining']"
      ]
    },
    {
      "cell_type": "code",
      "execution_count": null,
      "metadata": {
        "id": "Oit2ZPy8O1-a"
      },
      "outputs": [],
      "source": [
        "df.head()"
      ]
    },
    {
      "cell_type": "code",
      "execution_count": null,
      "metadata": {
        "id": "lnmwd3oKO2yo"
      },
      "outputs": [],
      "source": [
        "# removing minutes_remaining and seconds_remaining\n",
        "df.drop(['minutes_remaining','seconds_remaining'], axis=1, inplace=True)"
      ]
    },
    {
      "cell_type": "code",
      "execution_count": null,
      "metadata": {
        "id": "s9vNXxK9Qwhw"
      },
      "outputs": [],
      "source": [
        "df.head()"
      ]
    },
    {
      "cell_type": "code",
      "execution_count": null,
      "metadata": {
        "id": "VRMuT3wERGgu"
      },
      "outputs": [],
      "source": [
        "# we have four column name team_id, team_name, matchup and opponent\n",
        "# what we will do is we will keep opponent column and extract home or away from matchup column\n",
        "# these two new column consist all the information which these four convey.\n",
        "# from matchup column we will extract weather the game is played at home or away"
      ]
    },
    {
      "cell_type": "code",
      "execution_count": null,
      "metadata": {
        "id": "x2D2HbtqSCXt"
      },
      "outputs": [],
      "source": [
        "df['home_away'] = df['matchup'].apply(lambda x: 'Home' if 'vs.' in x else 'Away')"
      ]
    },
    {
      "cell_type": "code",
      "execution_count": null,
      "metadata": {
        "id": "Y-e-dodKSEC0"
      },
      "outputs": [],
      "source": [
        "df.sample(5)"
      ]
    },
    {
      "cell_type": "code",
      "execution_count": null,
      "metadata": {
        "id": "jelH6KHsUHzh"
      },
      "outputs": [],
      "source": [
        "# dropping matchup column\n",
        "df.drop(['matchup'], axis=1, inplace=True)"
      ]
    },
    {
      "cell_type": "code",
      "execution_count": null,
      "metadata": {
        "id": "oA6MiEHTUuE6"
      },
      "outputs": [],
      "source": [
        "df.sample(5)"
      ]
    },
    {
      "cell_type": "code",
      "execution_count": null,
      "metadata": {
        "id": "xIHzO3WlUv7m"
      },
      "outputs": [],
      "source": [
        "# dropping team_id and team_name\n",
        "# it conatain constant value and doesnot have any role in prediction of shot is sucessful or not.\n",
        "df.drop(['team_id','team_name'], axis=1, inplace=True)"
      ]
    },
    {
      "cell_type": "code",
      "execution_count": null,
      "metadata": {
        "id": "qDq5wVyxVCf5"
      },
      "outputs": [],
      "source": [
        "df.shape"
      ]
    },
    {
      "cell_type": "code",
      "execution_count": null,
      "metadata": {
        "id": "qmMYL8BDVEAj"
      },
      "outputs": [],
      "source": [
        "df.sample(5)"
      ]
    },
    {
      "cell_type": "code",
      "execution_count": null,
      "metadata": {
        "id": "fevI1VTyVGK4"
      },
      "outputs": [],
      "source": [
        "# shot_type\n",
        "# we will convert it into integer datatype.\n",
        "# what we will do is we convert 2PT Field Goal to 2 and so on.\n",
        "# and at end we perform typecasting to convert it into integer."
      ]
    },
    {
      "cell_type": "code",
      "execution_count": null,
      "metadata": {
        "id": "Qp84fcW_ZT3p"
      },
      "outputs": [],
      "source": [
        "df['shot_type'].unique()"
      ]
    },
    {
      "cell_type": "code",
      "execution_count": null,
      "metadata": {
        "id": "tuG1CQOYZZMn"
      },
      "outputs": [],
      "source": [
        "df['shot_type'] = df['shot_type'].apply(lambda x: int(x.split('PT')[0]))"
      ]
    },
    {
      "cell_type": "code",
      "execution_count": null,
      "metadata": {
        "id": "jWiC1W3ccR2t"
      },
      "outputs": [],
      "source": [
        "df['shot_type'].unique()"
      ]
    },
    {
      "cell_type": "code",
      "execution_count": null,
      "metadata": {
        "id": "NxwVTZSNcUQ3"
      },
      "outputs": [],
      "source": [
        "df['shot_type'].dtypes"
      ]
    },
    {
      "cell_type": "code",
      "execution_count": null,
      "metadata": {
        "id": "5XwukaEscaJG"
      },
      "outputs": [],
      "source": [
        "df.sample(5)"
      ]
    },
    {
      "cell_type": "code",
      "execution_count": null,
      "metadata": {
        "id": "G1UMvKz2ceN8"
      },
      "outputs": [],
      "source": [
        "df['shot_zone_range'].unique()"
      ]
    },
    {
      "cell_type": "code",
      "execution_count": null,
      "metadata": {
        "id": "29SW1dVigqxV"
      },
      "outputs": [],
      "source": [
        "# Both shot_zone_range and shot_distance convey the same information we will drop shot_zone_range and keep shot_distance.\n",
        "# If you need precise distance information for detailed prediction (e.g., modeling how shot success changes foot-by-foot).\n",
        "# Models generally perform better with numerical data rather than categorical groupings, so shot_distance is often preferred.\n",
        "# Keep shot_distance and remove shot_zone_range, as shot_distance provides more information and can be easily converted into ranges if needed later."
      ]
    },
    {
      "cell_type": "code",
      "execution_count": null,
      "metadata": {
        "id": "px28vjzGM_kz"
      },
      "outputs": [],
      "source": [
        "# removing shot_zone_range\n",
        "df.drop(['shot_zone_range'], axis=1, inplace=True)"
      ]
    },
    {
      "cell_type": "code",
      "execution_count": null,
      "metadata": {
        "id": "AE7AoC5qNMey"
      },
      "outputs": [],
      "source": [
        "df.sample(5)"
      ]
    },
    {
      "cell_type": "code",
      "execution_count": null,
      "metadata": {
        "id": "HJ6M2gB1NQKV"
      },
      "outputs": [],
      "source": [
        "df.shape"
      ]
    },
    {
      "cell_type": "code",
      "execution_count": null,
      "metadata": {
        "id": "_rWPIiD2NbCp"
      },
      "outputs": [],
      "source": [
        "#playoffs contain constant value\n",
        "df['playoffs'].value_counts()"
      ]
    },
    {
      "cell_type": "code",
      "execution_count": null,
      "metadata": {
        "id": "iDxbS5G0Ngmg"
      },
      "outputs": [],
      "source": [
        "# removing playoffs\n",
        "df.drop(['playoffs'], axis=1, inplace=True)"
      ]
    },
    {
      "cell_type": "code",
      "execution_count": null,
      "metadata": {
        "id": "lix5q9pHN4wO"
      },
      "outputs": [],
      "source": [
        "df.sample(5)"
      ]
    },
    {
      "cell_type": "code",
      "execution_count": null,
      "metadata": {
        "id": "PFKmWjsnN65B"
      },
      "outputs": [],
      "source": [
        "df.shape"
      ]
    },
    {
      "cell_type": "code",
      "execution_count": null,
      "metadata": {
        "id": "BH0ew0RnN9CV"
      },
      "outputs": [],
      "source": [
        "\n",
        "df.columns"
      ]
    },
    {
      "cell_type": "code",
      "execution_count": null,
      "metadata": {
        "id": "md6z0h7IsYuk"
      },
      "outputs": [],
      "source": [
        "# season\n",
        "df['season'].unique()"
      ]
    },
    {
      "cell_type": "code",
      "execution_count": null,
      "metadata": {
        "id": "OHcmm_WYzOZ5"
      },
      "outputs": [],
      "source": [
        "# we will extract start year date since all the records in season column has period of 1 year\n",
        "df['season_start_year'] = df['season'].apply(lambda x: int(x.split('-')[0]))"
      ]
    },
    {
      "cell_type": "code",
      "execution_count": null,
      "metadata": {
        "id": "6LpFcVtezvwr"
      },
      "outputs": [],
      "source": [
        "df.sample(5)"
      ]
    },
    {
      "cell_type": "code",
      "execution_count": null,
      "metadata": {
        "id": "BJWrK_4-z-L1"
      },
      "outputs": [],
      "source": [
        "# removing season column\n",
        "df.drop(['season'], axis=1, inplace=True)"
      ]
    },
    {
      "cell_type": "code",
      "execution_count": null,
      "metadata": {
        "id": "UDCcLvLj0IWq"
      },
      "outputs": [],
      "source": [
        "# game_date\n",
        "# we will extract month and weekdays from this column\n",
        "# year we already extracted from season column\n",
        "# reason to extract month column is it is particularlly seen player shoot differently in different season\n",
        "# and for weekdays there is more crowd than usual player may become underpressurer and do mistakes.\n"
      ]
    },
    {
      "cell_type": "code",
      "execution_count": null,
      "metadata": {
        "id": "HMtxyLs24ht5"
      },
      "outputs": [],
      "source": [
        "df['game_date'].dtype"
      ]
    },
    {
      "cell_type": "code",
      "execution_count": null,
      "metadata": {
        "id": "lJcQ1G2X4SmZ"
      },
      "outputs": [],
      "source": [
        "# Convert game_date to datetime\n",
        "df['game_date'] = pd.to_datetime(df['game_date'])"
      ]
    },
    {
      "cell_type": "code",
      "execution_count": null,
      "metadata": {
        "id": "T_HrZDwy7Eif"
      },
      "outputs": [],
      "source": [
        "df['game_date'].dtype"
      ]
    },
    {
      "cell_type": "code",
      "execution_count": null,
      "metadata": {
        "id": "79EzO1s74ACa"
      },
      "outputs": [],
      "source": [
        "df['game_month'] = df['game_date'].dt.month"
      ]
    },
    {
      "cell_type": "code",
      "execution_count": null,
      "metadata": {
        "id": "Dhkymqt64Rsq"
      },
      "outputs": [],
      "source": [
        "df['game_weekday'] = df['game_date'].dt.weekday"
      ]
    },
    {
      "cell_type": "code",
      "execution_count": null,
      "metadata": {
        "id": "YbeLpi9i7IxS"
      },
      "outputs": [],
      "source": [
        "df.sample(5)"
      ]
    },
    {
      "cell_type": "code",
      "execution_count": null,
      "metadata": {
        "id": "JDdJqcMv7KUN"
      },
      "outputs": [],
      "source": [
        "# removing game_date\n",
        "df.drop(['game_date'], axis=1, inplace=True)"
      ]
    },
    {
      "cell_type": "code",
      "execution_count": null,
      "metadata": {
        "id": "jobUL6777Wr4"
      },
      "outputs": [],
      "source": [
        "df.sample(5)"
      ]
    },
    {
      "cell_type": "code",
      "execution_count": null,
      "metadata": {
        "id": "nVHcnlAUxDpY"
      },
      "outputs": [],
      "source": [
        "df['home_away'] = df['home_away'].map({'Away': 0, 'Home': 1})\n",
        "df['home_away'] = df['home_away'].astype(int)"
      ]
    },
    {
      "cell_type": "code",
      "execution_count": null,
      "metadata": {
        "id": "iRMkFdAbHr29"
      },
      "outputs": [],
      "source": []
    },
    {
      "cell_type": "code",
      "execution_count": null,
      "metadata": {
        "id": "YyTpjwPC7d4v"
      },
      "outputs": [],
      "source": [
        "df.shape"
      ]
    },
    {
      "cell_type": "code",
      "execution_count": null,
      "metadata": {
        "id": "m7RGL_3070Zf"
      },
      "outputs": [],
      "source": [
        "plt.figure(figsize=(10,5),facecolor='white')\n",
        "sns.heatmap(df.select_dtypes(include='number').corr(),annot=True,cmap='Blues')"
      ]
    },
    {
      "cell_type": "markdown",
      "metadata": {
        "id": "Xail_4k0sux5"
      },
      "source": [
        "# **Applying Encoder to categorical column**"
      ]
    },
    {
      "cell_type": "code",
      "execution_count": null,
      "metadata": {
        "id": "Lxnm-trLjQDC"
      },
      "outputs": [],
      "source": [
        "# Combined shot type\n",
        "label_enc = LabelEncoder()\n",
        "df['combined_shot_type'] = label_enc.fit_transform(df['combined_shot_type'])"
      ]
    },
    {
      "cell_type": "code",
      "execution_count": null,
      "metadata": {
        "id": "9g1Sk-u5jP51"
      },
      "outputs": [],
      "source": [
        "# shot_zone_area and shot_zone_basic\n",
        "# one_hot_encoding\n",
        "df['shot_zone_area'] =  label_enc.fit_transform(df['shot_zone_area'])"
      ]
    },
    {
      "cell_type": "code",
      "execution_count": null,
      "metadata": {
        "id": "Y_Jb0gzLznO1"
      },
      "outputs": [],
      "source": [
        "df['shot_zone_basic'] = label_enc.fit_transform(df['shot_zone_basic'])"
      ]
    },
    {
      "cell_type": "code",
      "execution_count": null,
      "metadata": {
        "id": "cQWvxSqtjP3U"
      },
      "outputs": [],
      "source": [
        "# action_type and opponent\n",
        "target_enc = TargetEncoder()\n",
        "df['action_type'] = target_enc.fit_transform(df['action_type'], df['shot_made_flag'])\n",
        "df['opponent'] = target_enc.fit_transform(df['opponent'], df['shot_made_flag'])"
      ]
    },
    {
      "cell_type": "markdown",
      "metadata": {
        "id": "2NRfb5prlXk8"
      },
      "source": [
        "# **Splitting data in independent and target variable**"
      ]
    },
    {
      "cell_type": "code",
      "execution_count": null,
      "metadata": {
        "id": "Db02fQfSjPtT"
      },
      "outputs": [],
      "source": [
        "x =  df.drop(['shot_made_flag'], axis=1)\n",
        "y = df['shot_made_flag']"
      ]
    },
    {
      "cell_type": "code",
      "execution_count": null,
      "metadata": {
        "id": "rhXkwN92jPqe"
      },
      "outputs": [],
      "source": [
        "x"
      ]
    },
    {
      "cell_type": "code",
      "execution_count": null,
      "metadata": {
        "id": "1-UwVsrZjPmb"
      },
      "outputs": [],
      "source": [
        "x.shape"
      ]
    },
    {
      "cell_type": "code",
      "execution_count": null,
      "metadata": {
        "id": "j5ozwhkkjPkA"
      },
      "outputs": [],
      "source": [
        "\n",
        "y"
      ]
    },
    {
      "cell_type": "markdown",
      "metadata": {
        "id": "O6GdtbcpnI6A"
      },
      "source": [
        "# Splitting data into testing and training set"
      ]
    },
    {
      "cell_type": "code",
      "execution_count": null,
      "metadata": {
        "id": "3tfuAMfC09FB"
      },
      "outputs": [],
      "source": [
        "x_train,x_test,y_train,y_test = train_test_split(x,y,test_size=0.2,random_state=42)"
      ]
    },
    {
      "cell_type": "code",
      "execution_count": null,
      "metadata": {
        "id": "uU84pX1unS8V"
      },
      "outputs": [],
      "source": [
        "x_train.shape"
      ]
    },
    {
      "cell_type": "code",
      "execution_count": null,
      "metadata": {
        "id": "dwCAU686nWJ0"
      },
      "outputs": [],
      "source": [
        "x_test.shape"
      ]
    },
    {
      "cell_type": "code",
      "execution_count": null,
      "metadata": {
        "id": "K92aTTLvnZ5J"
      },
      "outputs": [],
      "source": [
        "y_train.shape"
      ]
    },
    {
      "cell_type": "code",
      "execution_count": null,
      "metadata": {
        "id": "2Gr6N08vnb4T"
      },
      "outputs": [],
      "source": [
        "y_test.shape"
      ]
    },
    {
      "cell_type": "markdown",
      "metadata": {
        "id": "wjiTUk35nzwd"
      },
      "source": [
        "# **Applying standard scaler to numerical column**"
      ]
    },
    {
      "cell_type": "code",
      "execution_count": null,
      "metadata": {
        "id": "gyt8IJKunxTZ"
      },
      "outputs": [],
      "source": [
        "\n",
        "# Initialize MinMaxScaler (default range is [0,1])\n",
        "scaler = MinMaxScaler()\n",
        "\n",
        "# Apply scaling and update the DataFrame\n",
        "x_train = scaler.fit_transform(x_train)\n",
        "x_test = scaler.transform(x_test)"
      ]
    },
    {
      "cell_type": "markdown",
      "metadata": {
        "id": "CTVdFT36rf43"
      },
      "source": [
        "# **Model Creation**"
      ]
    },
    {
      "cell_type": "markdown",
      "metadata": {
        "id": "7V72W3NhGsuA"
      },
      "source": [
        "# **LOGISTIC REGRESSION**"
      ]
    },
    {
      "cell_type": "code",
      "execution_count": null,
      "metadata": {
        "id": "o_FrGMJgndfB"
      },
      "outputs": [],
      "source": [
        "LR = LogisticRegression()\n",
        "LR.fit(x_train,y_train)\n",
        "y_pred = LR.predict(x_test)\n",
        "print(f1_score(y_test,y_pred))\n",
        "print(accuracy_score(y_test,y_pred))\n",
        "print(confusion_matrix(y_test,y_pred))\n",
        "print(classification_report(y_test,y_pred))"
      ]
    },
    {
      "cell_type": "markdown",
      "metadata": {
        "id": "RT3xMF9yGzEf"
      },
      "source": [
        "# **DECISION TREE**"
      ]
    },
    {
      "cell_type": "code",
      "execution_count": null,
      "metadata": {
        "id": "8INHooOMr88Q"
      },
      "outputs": [],
      "source": [
        "DT = DecisionTreeClassifier()\n",
        "DT.fit(x_train,y_train)\n",
        "y_pred = DT.predict(x_test)\n",
        "print('accuracy_score :',accuracy_score(y_test,y_pred))\n",
        "print('f1_score :' ,f1_score(y_test,y_pred))"
      ]
    },
    {
      "cell_type": "markdown",
      "metadata": {
        "id": "uQO-6V5cG5Fk"
      },
      "source": [
        "# **HYPERPARAMETER TUNNING FOR DECISION TREE**"
      ]
    },
    {
      "cell_type": "code",
      "execution_count": null,
      "metadata": {
        "id": "ZQvK0KXcsJS6"
      },
      "outputs": [],
      "source": [
        "# Hyperparameter tunning\n",
        "from sklearn.model_selection import GridSearchCV\n",
        "\n",
        "# creating dictionary of key value pair of parameter and its value\n",
        "params =  {\n",
        "    \"criterion\":(\"gini\",\"entropy\"),\n",
        "    \"splitter\":(\"best\",\"random\"),\n",
        "    \"max_depth\":(list(range(2,10))),\n",
        "    \"min_samples_split\":[2,3,4,5,6,7],\n",
        "    \"min_samples_leaf\":list(range(1,10))\n",
        "}\n",
        "\n",
        "tree_clf=DecisionTreeClassifier()\n",
        "tree_cv=GridSearchCV(tree_clf,params,scoring='f1',n_jobs=-1,verbose=2, cv=5)\n",
        "#passing model to gridsearchCV ,\n",
        "#tree_clf-->model\n",
        "#params---->hyperparametes(dictionary we created)\n",
        "#scoring--->performance matrix to check performance\n",
        "#n_jobs---->Number of jobs to run in parallel,-1 means using all processors.\n",
        "#verbose=Controls the verbosity: the higher, the more messages.\n",
        "#>1 : the computation time for each fold and parameter candidate is displayed;\n",
        "#>2 : the score is also displayed;\n",
        "#>3 : the fold and candidate parameter indexes are also displayed together with the starting time of the computation.\n",
        "#cv------> number of flods\n",
        "\n",
        "tree_cv.fit(x_train,y_train)\n",
        "best_params=tree_cv.best_params_\n",
        "print(f\"Best Parameter : {best_params})\")"
      ]
    },
    {
      "cell_type": "markdown",
      "metadata": {
        "id": "w_v_iSp58J8C"
      },
      "source": [
        "# TRAINING MODEL WITH BEST PARAMETERS"
      ]
    },
    {
      "cell_type": "code",
      "execution_count": null,
      "metadata": {
        "id": "NGbuQFzBsmdW"
      },
      "outputs": [],
      "source": [
        "dt1=DecisionTreeClassifier(criterion='gini',max_depth=2,min_samples_leaf=2,min_samples_split=6,splitter='random')"
      ]
    },
    {
      "cell_type": "code",
      "execution_count": null,
      "metadata": {
        "id": "0x0PQALxucT2"
      },
      "outputs": [],
      "source": [
        "dt1.fit(x_train,y_train)"
      ]
    },
    {
      "cell_type": "code",
      "execution_count": null,
      "metadata": {
        "id": "T-q_pEbxufns"
      },
      "outputs": [],
      "source": [
        "y_pred_dt1=dt1.predict(x_test)\n",
        "y_pred_dt1"
      ]
    },
    {
      "cell_type": "code",
      "execution_count": null,
      "metadata": {
        "id": "rtSyHXxruluF"
      },
      "outputs": [],
      "source": [
        "print('accuracy_score :',accuracy_score(y_test,y_pred_dt1))\n",
        "print('f1_score :' ,f1_score(y_test,y_pred_dt1))"
      ]
    },
    {
      "cell_type": "markdown",
      "metadata": {
        "id": "WWN_Hh6LHFLo"
      },
      "source": [
        "# **RANDOM FOREST**"
      ]
    },
    {
      "cell_type": "code",
      "execution_count": null,
      "metadata": {
        "id": "S2Qa8NSzuvd8"
      },
      "outputs": [],
      "source": [
        "RF=RandomForestClassifier()\n",
        "RF.fit(x_train,y_train)\n",
        "y_pred = RF.predict(x_test)\n",
        "print('accuracy_score :',accuracy_score(y_test,y_pred))\n",
        "print('f1_score :' ,f1_score(y_test,y_pred))"
      ]
    },
    {
      "cell_type": "markdown",
      "metadata": {
        "id": "9R9avFq_HQJr"
      },
      "source": [
        "# **HYPERPARAMETER TUNNING FOR RANDOM FOREST**"
      ]
    },
    {
      "cell_type": "code",
      "execution_count": null,
      "metadata": {
        "id": "XEd6KMSbvFn_"
      },
      "outputs": [],
      "source": [
        "# Hyperparameter tunning\n",
        "from sklearn.model_selection import GridSearchCV\n",
        "\n",
        "n_estimators= [int(x) for x in np.linspace(start=1,stop=100,num=10)]\n",
        "max_features = ['auto','sqrt','log']\n",
        "max_depth = [int(x) for x in np.linspace(1,100,num=10)]\n",
        "min_samples_split = [5,10,15,21]\n",
        "min_samples_leaf= [1,2,3,4,5,6,7]\n",
        "\n",
        "\n",
        "random_grid = {\n",
        "    'n_estimators':n_estimators,\n",
        "    'max_features':max_features,\n",
        "    'max_depth':max_depth,\n",
        "    'min_samples_split':min_samples_split,\n",
        "    'min_samples_leaf':min_samples_leaf\n",
        "}\n",
        "\n",
        "rf_clf1=RandomForestClassifier(random_state=37)\n",
        "rf_cv= GridSearchCV(estimator=rf_clf1,scoring='f1',param_grid=random_grid,n_jobs=-1,verbose=2,cv=3)"
      ]
    },
    {
      "cell_type": "code",
      "execution_count": null,
      "metadata": {
        "id": "4O6gdqCMvlCq"
      },
      "outputs": [],
      "source": [
        "rf_cv.fit(x_train,y_train)\n",
        "rf_best_params=rf_cv.best_params_\n",
        "print(f\"Best Parameter : {best_params})\")"
      ]
    },
    {
      "cell_type": "markdown",
      "metadata": {
        "id": "K2TEhaiN7-wa"
      },
      "source": [
        "# TRAINING MODEL WITH BEST PARAMETERS"
      ]
    },
    {
      "cell_type": "code",
      "execution_count": null,
      "metadata": {
        "id": "U2sAfSLapYSm"
      },
      "outputs": [],
      "source": [
        "rf1=RandomForestClassifier(criterion='gini',max_depth=2,min_samples_leaf=2,min_samples_split=6)"
      ]
    },
    {
      "cell_type": "code",
      "execution_count": null,
      "metadata": {
        "id": "Hq__yjKcq0X5"
      },
      "outputs": [],
      "source": [
        "rf1.fit(x_train,y_train)"
      ]
    },
    {
      "cell_type": "code",
      "execution_count": null,
      "metadata": {
        "id": "PePwL2UEs4y5"
      },
      "outputs": [],
      "source": [
        "y_pred9 = rf1.predict(x_test)\n",
        "y_pred9"
      ]
    },
    {
      "cell_type": "code",
      "execution_count": null,
      "metadata": {
        "id": "MPXrr7b9sxIL"
      },
      "outputs": [],
      "source": [
        "f1 = f1_score(y_test,y_pred9)\n",
        "f1"
      ]
    },
    {
      "cell_type": "code",
      "source": [
        "accuracy = accuracy_score(y_test,y_pred9)\n",
        "accuracy"
      ],
      "metadata": {
        "id": "P40hM2uV7XP8"
      },
      "execution_count": null,
      "outputs": []
    },
    {
      "cell_type": "markdown",
      "metadata": {
        "id": "IruSCF2ZHZfn"
      },
      "source": [
        "# **SVC**"
      ]
    },
    {
      "cell_type": "code",
      "execution_count": null,
      "metadata": {
        "id": "qfwLMQC4vppH"
      },
      "outputs": [],
      "source": [
        "from sklearn.svm import SVC\n",
        "svc=SVC()\n",
        "svc.fit(x_train,y_train)"
      ]
    },
    {
      "cell_type": "code",
      "execution_count": null,
      "metadata": {
        "id": "8up9I79lonGE"
      },
      "outputs": [],
      "source": [
        "y_pred2=svc.predict(x_test)\n",
        "y_pred2"
      ]
    },
    {
      "cell_type": "code",
      "execution_count": null,
      "metadata": {
        "id": "Dvy4d6Yvopqn"
      },
      "outputs": [],
      "source": [
        "# Evaluating the model\n",
        "f1=f1_score(y_test,y_pred2)\n",
        "f1"
      ]
    },
    {
      "cell_type": "code",
      "execution_count": null,
      "metadata": {
        "id": "WBvWvWKNoxi6"
      },
      "outputs": [],
      "source": [
        "accu=accuracy_score(y_test,y_pred2)\n",
        "accu"
      ]
    },
    {
      "cell_type": "code",
      "execution_count": null,
      "metadata": {
        "id": "1H3HdwhOpUQB"
      },
      "outputs": [],
      "source": [
        "class_rprt=classification_report(y_test,y_pred2)\n",
        "print(class_rprt)"
      ]
    },
    {
      "cell_type": "code",
      "execution_count": null,
      "metadata": {
        "id": "dakyU7sLpZMu"
      },
      "outputs": [],
      "source": [
        "correct_pred=(y_test==y_pred2)\n",
        "num_correct_pred=correct_pred.sum()\n",
        "num_correct_pred"
      ]
    },
    {
      "cell_type": "code",
      "execution_count": null,
      "metadata": {
        "id": "GqC23cpvpwxN"
      },
      "outputs": [],
      "source": [
        "y_test.shape"
      ]
    },
    {
      "cell_type": "markdown",
      "metadata": {
        "id": "ogZdxbMWHetX"
      },
      "source": [
        "# **HYPERPARAMETER TUNNING FOR SVC**"
      ]
    },
    {
      "cell_type": "code",
      "execution_count": null,
      "metadata": {
        "id": "EhMARmmHp2LO"
      },
      "outputs": [],
      "source": [
        "# Hyperparameter tunning\n",
        "\n",
        "from itertools import product\n",
        "\n",
        "param_grid = {\n",
        "    'C':[0.1,1,2,3,5,10,50,60,70,80],\n",
        "    'kernel':['linear','rbf','poly'],\n",
        "    'gamma':['scale','auto'],\n",
        "    'degree':[2,3,4]\n",
        "}\n",
        "\n",
        "from sklearn.model_selection import GridSearchCV\n",
        "\n",
        "# Assigning SVC model into variable\n",
        "model=SVC()\n",
        "\n",
        "grid = GridSearchCV(model,param_grid=param_grid,refit=True, verbose=2, scoring='f1',cv=5)\n",
        "\n",
        "# fitting model for grid search\n",
        "grid.fit(x_train,y_train)\n",
        "best_params=grid.best_params_\n",
        "print(f\"Best Parameter : {best_params})\")"
      ]
    },
    {
      "cell_type": "markdown",
      "metadata": {
        "id": "G1KwtHQL71VA"
      },
      "source": [
        "# TRAINING MODEL WITH BEST PARAMETERS"
      ]
    },
    {
      "cell_type": "code",
      "execution_count": null,
      "metadata": {
        "id": "mPYyBHypqwgB"
      },
      "outputs": [],
      "source": [
        "svc1=SVC(C=80,degree=2,gamma='scale',kernel='linear')\n",
        "svc1.fit(x_train,y_train)"
      ]
    },
    {
      "cell_type": "markdown",
      "metadata": {
        "id": "SEFfxgR4Hl0X"
      },
      "source": [
        "# **GAUSSIAN NB**"
      ]
    },
    {
      "cell_type": "code",
      "execution_count": null,
      "metadata": {
        "id": "g5FGLcmR2s-Z"
      },
      "outputs": [],
      "source": [
        "from sklearn.naive_bayes import GaussianNB\n",
        "gnb=GaussianNB()\n",
        "gnb.fit(x_train,y_train)"
      ]
    },
    {
      "cell_type": "code",
      "execution_count": null,
      "metadata": {
        "id": "zFFi5h-A2tsi"
      },
      "outputs": [],
      "source": [
        "y_pred5=gnb.predict(x_test)\n",
        "y_pred5"
      ]
    },
    {
      "cell_type": "code",
      "execution_count": null,
      "metadata": {
        "id": "BqzFjYmB2v4R"
      },
      "outputs": [],
      "source": [
        "# Evaluting the model\n",
        "f1=f1_score(y_test,y_pred5)\n",
        "f1"
      ]
    },
    {
      "cell_type": "code",
      "execution_count": null,
      "metadata": {
        "id": "E7g6gCu62yq9"
      },
      "outputs": [],
      "source": [
        "accuracy=accuracy_score(y_test,y_pred5)\n",
        "accuracy"
      ]
    },
    {
      "cell_type": "markdown",
      "metadata": {
        "id": "6vWXuHwvHsga"
      },
      "source": [
        "# **MULTINOMIAL NB**"
      ]
    },
    {
      "cell_type": "code",
      "execution_count": null,
      "metadata": {
        "id": "qIzbQhZK21fA"
      },
      "outputs": [],
      "source": [
        "from sklearn.naive_bayes import MultinomialNB\n",
        "mnb=MultinomialNB()\n",
        "mnb.fit(x_train,y_train)"
      ]
    },
    {
      "cell_type": "code",
      "execution_count": null,
      "metadata": {
        "id": "5EV3MZ8P24q2"
      },
      "outputs": [],
      "source": [
        "y_pred6=mnb.predict(x_test)\n",
        "y_pred6"
      ]
    },
    {
      "cell_type": "code",
      "execution_count": null,
      "metadata": {
        "id": "DNg_6xbH27g1"
      },
      "outputs": [],
      "source": [
        "# Evaluating the model\n",
        "f1=f1_score(y_test,y_pred6)\n",
        "f1"
      ]
    },
    {
      "cell_type": "code",
      "execution_count": null,
      "metadata": {
        "id": "10nsoEjD2-CI"
      },
      "outputs": [],
      "source": [
        "accuracy=accuracy_score(y_test,y_pred6)\n",
        "accuracy"
      ]
    },
    {
      "cell_type": "markdown",
      "metadata": {
        "id": "lMmvDkpfHxCR"
      },
      "source": [
        "# **KNN**"
      ]
    },
    {
      "cell_type": "code",
      "execution_count": null,
      "metadata": {
        "id": "H7IhWuZP3BQ_"
      },
      "outputs": [],
      "source": [
        "from sklearn.neighbors import KNeighborsClassifier\n",
        "knn=KNeighborsClassifier(n_neighbors=3)\n",
        "knn.fit(x_train,y_train)"
      ]
    },
    {
      "cell_type": "code",
      "execution_count": null,
      "metadata": {
        "id": "X8q0Vydt3Q3H"
      },
      "outputs": [],
      "source": [
        "y_pred4=knn.predict(x_test)\n",
        "y_pred4"
      ]
    },
    {
      "cell_type": "code",
      "execution_count": null,
      "metadata": {
        "id": "oaqgYPF_3T-k"
      },
      "outputs": [],
      "source": [
        "# Evaluating the model\n",
        "f1=f1_score(y_test,y_pred4)\n",
        "f1"
      ]
    },
    {
      "cell_type": "code",
      "execution_count": null,
      "metadata": {
        "id": "2JiVMLNL3W1p"
      },
      "outputs": [],
      "source": [
        "accuracy=accuracy_score(y_test,y_pred4)\n",
        "accuracy"
      ]
    },
    {
      "cell_type": "code",
      "execution_count": null,
      "metadata": {
        "id": "IfJ0xNlt3aCx"
      },
      "outputs": [],
      "source": [
        "class_rprt=classification_report(y_test,y_pred4)\n",
        "print(class_rprt)"
      ]
    },
    {
      "cell_type": "markdown",
      "metadata": {
        "id": "Pdn5-YGs7l7-"
      },
      "source": [
        "# **ELBOW DIAGRAM FOR OPTIMAL VALUE OF K**"
      ]
    },
    {
      "cell_type": "code",
      "execution_count": null,
      "metadata": {
        "id": "z7bsMoRi3ak2"
      },
      "outputs": [],
      "source": [
        "test_error_rates = []\n",
        "\n",
        "\n",
        "for k in range(1,40):\n",
        "    knn_model = KNeighborsClassifier(n_neighbors=k)\n",
        "    knn_model.fit(x_train,y_train)\n",
        "\n",
        "    y_pred = knn_model.predict(x_test)\n",
        "\n",
        "    test_error = 1 - accuracy_score(y_test,y_pred)\n",
        "    test_error_rates.append(test_error)"
      ]
    },
    {
      "cell_type": "code",
      "execution_count": null,
      "metadata": {
        "id": "2DHCgLVKLIwg"
      },
      "outputs": [],
      "source": [
        "plt.figure(figsize=(6,4),dpi=100)\n",
        "plt.plot(range(1,40),test_error_rates,label='Test Error')\n",
        "plt.legend()\n",
        "plt.ylabel('Error Rate')\n",
        "plt.xlabel(\"K Value\")"
      ]
    },
    {
      "cell_type": "code",
      "execution_count": null,
      "metadata": {
        "id": "vTqzf_6yLMFn"
      },
      "outputs": [],
      "source": [
        "from sklearn.neighbors import KNeighborsClassifier\n",
        "knn=KNeighborsClassifier(n_neighbors=30)\n",
        "knn.fit(x_train,y_train)"
      ]
    },
    {
      "cell_type": "code",
      "execution_count": null,
      "metadata": {
        "id": "MsBfjdskLnHk"
      },
      "outputs": [],
      "source": [
        "y_pred12=knn.predict(x_test)\n",
        "y_pred12"
      ]
    },
    {
      "cell_type": "code",
      "execution_count": null,
      "metadata": {
        "id": "_ZNrNeIbLuxi"
      },
      "outputs": [],
      "source": [
        "# Evaluating the model\n",
        "f1=f1_score(y_test,y_pred12)\n",
        "f1"
      ]
    },
    {
      "cell_type": "markdown",
      "source": [
        "# **MODEL COMPARISION**\n",
        "\n",
        "*  Algorithm used in this project are logistic regression, Decision Tree, Random Forest, SVC, MultinomialNB, GaussianNB and KNN.\n",
        "\n",
        "*  Some of the algorithm which have highest F1 score are mentioned below.\n",
        "*   Algorithm used : F1_Score  | Accuracy\n",
        "\n",
        "  * Logistic Regression : 55%  | 68%   \n",
        "\n",
        "  *   Decision Tree     :    58%  | 52%\n",
        "  *   Random Forest     :    66%  | 55%\n",
        "\n",
        "  *   SVC                :   55%  | 68%\n",
        "\n",
        "\n",
        "*   Since we are selecting model based on F1 Score Decision Tree provide us best f1 score after performing Hyperparameter tunning which is 68%\n",
        "\n",
        "*  Lowest F1 score is given by KNN.\n",
        "*  IN conclusion, Decision Tree provide us best F1 score which is 68%.\n",
        "\n"
      ],
      "metadata": {
        "id": "mcSuN_Y8w-cl"
      }
    },
    {
      "cell_type": "markdown",
      "source": [
        "# **CHALLENGES FACED**\n",
        "\n",
        "*   Dataset set contains irrelevant column such as game_date, Team_name and team_id, we dropped these column in order to get better prediction.\n",
        "\n",
        "*   Dataset contain columns wich convey same meaning as other other column such as lat, lon and loc_x and loc_y.\n",
        "\n",
        "*   We need to combine multiple column into one column since both have same meaning such minute_remaining and second_remaining we combined these two column and create new column which is time_remaining\n",
        "*   Feature shows very little or negative coorelation with the target column.\n",
        "\n",
        "\n",
        "*   None of the feature shows even more than 1% coorelation with the target column.\n",
        "\n",
        "\n",
        "*   we have to perform hyperparameter tunning for almost every algorithm which make it computationally expensive.\n",
        "\n"
      ],
      "metadata": {
        "id": "QN4R60QIxXxF"
      }
    },
    {
      "cell_type": "markdown",
      "source": [
        "# **CONCLUSION**\n",
        "\n",
        "In order to make this model perform good with rela time scenario we have to collect or tranform data which shows more cooorelation with the target column, due to less or no coorelation with the target column this project achieve highest f1 score of 68% which cannot be considered as the good score. what  we can do is collect the relevant data not only from one player but considered choosing multiple player in order to collect data."
      ],
      "metadata": {
        "id": "OQ0cDc-MxCfo"
      }
    },
    {
      "cell_type": "markdown",
      "source": [
        "# **FUTURE SCOPE**\n",
        "\n",
        " NBA Shot Selection project has significant potential beyond just classification. Here are some key future directions to enhance its impact.The NBA Shot Selection ML project can be enhanced by incorporating deep learning models like CNNs and RNNs for improved predictions, using SHAP and LIME for explainability, analyzing player-specific shooting tendencies, optimizing team strategies by identifying weak defensive zones, integrating wearable biometric data, expanding datasets with defender positioning, shot angles, and game context, leveraging external NBA play-by-play data, developing real-time analytics dashboards and mobile apps for players and coaches, extending the model to NCAA, EuroLeague, and WNBA, and applying similar techniques to other sports like soccer, cricket, and baseball for broader impact."
      ],
      "metadata": {
        "id": "Sieivua1xMBY"
      }
    },
    {
      "cell_type": "code",
      "execution_count": null,
      "metadata": {
        "id": "hHRWbmjbLz9F"
      },
      "outputs": [],
      "source": []
    }
  ],
  "metadata": {
    "accelerator": "GPU",
    "colab": {
      "gpuType": "T4",
      "provenance": [],
      "toc_visible": true,
      "authorship_tag": "ABX9TyMVheWrHU8xUnWnUMMzoRIr",
      "include_colab_link": true
    },
    "kernelspec": {
      "display_name": "Python 3",
      "name": "python3"
    },
    "language_info": {
      "name": "python"
    }
  },
  "nbformat": 4,
  "nbformat_minor": 0
}